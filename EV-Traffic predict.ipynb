!pip install pandas scikit-learn matplotlib
import pandas as pd
from sklearn.model_selection import train_test_split
from sklearn.linear_model import LinearRegression
import matplotlib.pyplot as plt

# Sample EV traffic data (replace with your actual data)
data = {
    'TimeOfDay': [8, 9, 10, 11, 12, 13, 14, 15, 16, 17, 18, 19, 20],  # Hour of the day
    'EVTrafficCount': [10, 25, 40, 55, 60, 50, 45, 35, 20, 15, 10, 5, 2]  # Number of EVs observed
}
df = pd.DataFrame(data)

# Prepare data for modeling
X = df[['TimeOfDay']]  # Features (time of day)
y = df['EVTrafficCount']  # Target (EV traffic count)

# Split data into training and testing sets
X_train, X_test, y_train, y_test = train_test_split(X, y, test_size=0.2, random_state=42)

# Create and train the model (Linear Regression)
model = LinearRegression()
model.fit(X_train, y_train)

# Make predictions on the test set
y_pred = model.predict(X_test)

# Evaluate the model (optional)
# You can add metrics like R-squared, Mean Squared Error, etc. here

# Plot actual vs predicted values
plt.scatter(X_test, y_test, color='blue', label='Actual')
plt.plot(X_test, y_pred, color='red', linewidth=2, label='Predicted')
plt.xlabel('Time of Day (Hour)')
plt.ylabel('EV Traffic Count')
plt.title('EV Traffic Prediction')
plt.legend()
plt.show()

# Predict EV traffic for a specific time of day (e.g., 10:00 AM)
new_time = [[10]]  # Input for prediction
predicted_traffic = model.predict(new_time)
print(f"Predicted EV traffic at 10:00 AM: {predicted_traffic[0]}")